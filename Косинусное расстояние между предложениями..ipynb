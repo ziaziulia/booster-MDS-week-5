{
 "cells": [
  {
   "cell_type": "code",
   "execution_count": 174,
   "metadata": {},
   "outputs": [
    {
     "data": {
      "text/plain": [
       "array([[0.94023857, 0.86198689, 0.88854436, 0.80553888, 0.93517963,\n",
       "        0.75474426, 0.91548457, 0.90695158, 0.88335763, 0.87035926,\n",
       "        0.87035926, 0.87737213, 0.87035926, 0.86198689, 0.94023857,\n",
       "        0.85361499, 0.95037083, 0.94427218, 0.94023857, 0.84275727,\n",
       "        0.82503645]])"
      ]
     },
     "execution_count": 174,
     "metadata": {},
     "output_type": "execute_result"
    }
   ],
   "source": [
    "file = open('sentences.txt')\n",
    "data_list = file.readlines()\n",
    "i = 0\n",
    "k = 0\n",
    "l = 0\n",
    "r = 0\n",
    "f = 1\n",
    "a = {}\n",
    "newlist= []\n",
    "newlist2= []\n",
    "newlist3= []\n",
    "for line in data_list:\n",
    "    b = line.lower().strip()\n",
    "    import re\n",
    "    c = re.split('[^a-z]', b)\n",
    "    c = [x for x in c if x]\n",
    "    for i in c:\n",
    "        if i not in newlist:\n",
    "            newlist.append(i)\n",
    "i = 0\n",
    "for d in newlist:\n",
    "    a[d]=k\n",
    "    k+=1\n",
    "for line in data_list:\n",
    "    b = line.lower().strip()\n",
    "    import re\n",
    "    c = re.split('[^a-z]', b)\n",
    "    c = [x for x in c if x]\n",
    "    newlist2= []\n",
    "    for i in a:\n",
    "        if i not in c:\n",
    "            newlist2.append(r)\n",
    "        else:\n",
    "            newlist2.append(f)\n",
    "    l+=1\n",
    "    newlist3+= [newlist2]\n",
    "import numpy as np\n",
    "m = np.array(newlist3)\n",
    "\n",
    "from scipy.spatial.distance import cdist\n",
    "cdist(m[0:1], m[1:], metric='cosine')"
   ]
  },
  {
   "cell_type": "code",
   "execution_count": null,
   "metadata": {},
   "outputs": [],
   "source": []
  },
  {
   "cell_type": "code",
   "execution_count": null,
   "metadata": {},
   "outputs": [],
   "source": []
  },
  {
   "cell_type": "code",
   "execution_count": null,
   "metadata": {},
   "outputs": [],
   "source": []
  },
  {
   "cell_type": "code",
   "execution_count": null,
   "metadata": {},
   "outputs": [],
   "source": []
  },
  {
   "cell_type": "code",
   "execution_count": null,
   "metadata": {},
   "outputs": [],
   "source": []
  },
  {
   "cell_type": "code",
   "execution_count": 43,
   "metadata": {},
   "outputs": [],
   "source": []
  },
  {
   "cell_type": "code",
   "execution_count": null,
   "metadata": {},
   "outputs": [],
   "source": []
  },
  {
   "cell_type": "code",
   "execution_count": null,
   "metadata": {},
   "outputs": [],
   "source": []
  },
  {
   "cell_type": "code",
   "execution_count": null,
   "metadata": {},
   "outputs": [],
   "source": []
  },
  {
   "cell_type": "code",
   "execution_count": null,
   "metadata": {},
   "outputs": [],
   "source": []
  },
  {
   "cell_type": "code",
   "execution_count": null,
   "metadata": {},
   "outputs": [],
   "source": []
  }
 ],
 "metadata": {
  "kernelspec": {
   "display_name": "Python 3",
   "language": "python",
   "name": "python3"
  },
  "language_info": {
   "codemirror_mode": {
    "name": "ipython",
    "version": 3
   },
   "file_extension": ".py",
   "mimetype": "text/x-python",
   "name": "python",
   "nbconvert_exporter": "python",
   "pygments_lexer": "ipython3",
   "version": "3.7.3"
  }
 },
 "nbformat": 4,
 "nbformat_minor": 2
}
